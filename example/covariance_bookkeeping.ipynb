{
 "cells": [
  {
   "cell_type": "markdown",
   "metadata": {},
   "source": [
    "Make master file"
   ]
  },
  {
   "cell_type": "code",
   "execution_count": 3,
   "metadata": {},
   "outputs": [],
   "source": [
    "import os\n",
    "\n",
    "# Define the root directory\n",
    "root_directory = \"/n17data/tersenov/Cov_DES_SLICS\"\n",
    "\n",
    "# Open the master text file in write mode\n",
    "master_file_path = \".././input/master_file_cov.txt\"\n",
    "with open(master_file_path, \"w\") as master_file:\n",
    "    # Iterate over the subdirectories matching the pattern \"LOS...\"\n",
    "    for subdir in os.listdir(root_directory):\n",
    "        # Check if the subdirectory name matches the pattern \"LOS...\"\n",
    "        if subdir.startswith(\"LOS\") and subdir[3:].isdigit():\n",
    "            subdir_path = os.path.join(root_directory, subdir)\n",
    "            \n",
    "            # Iterate over the files in the subdirectory\n",
    "            for file_name in os.listdir(subdir_path):\n",
    "                # Check if the file name matches the desired pattern\n",
    "                if file_name.startswith(\"DES_MocksCat_SLICS_4_Bin\") and file_name.endswith(\".dat\"):\n",
    "                    file_path = os.path.join(subdir_path, file_name)\n",
    "                    master_file.write(file_path + \"\\n\")\n"
   ]
  },
  {
   "cell_type": "code",
   "execution_count": 7,
   "metadata": {},
   "outputs": [],
   "source": [
    "import numpy as np\n",
    "\n",
    "def parse_cov_SLICS_filenames(file_paths):\n",
    "    # Make empty recarray to store the data\n",
    "    data = np.recarray(len(file_paths), dtype=[('bin', int), ('LOS', int), ('tile', int)])\n",
    "\n",
    "    # Iterate over the file paths and process each file\n",
    "    for i, file_path in enumerate(file_paths):\n",
    "        # Extract the file name from the file path\n",
    "        file_name = file_path.split(\"/\")[-1]\n",
    "        \n",
    "        # Split file name into parts\n",
    "        file_parts = file_name.split(\"_\")\n",
    "        \n",
    "        # Extract relevant information\n",
    "        bin = int(file_parts[4][3:])  # Extract the number after \"Bin\"\n",
    "        LOS = int(file_parts[5][3:])  # Extract the number after \"LOS\"\n",
    "        tile = int(file_parts[6][1:-4])  # Extract the number after \"R\"\n",
    "\n",
    "        # Assign the extracted data to the corresponding fields in the recarray\n",
    "        data[i]['bin'] = bin\n",
    "        data[i]['LOS'] = LOS\n",
    "        data[i]['tile'] = tile\n",
    "\n",
    "    return data\n"
   ]
  },
  {
   "cell_type": "code",
   "execution_count": null,
   "metadata": {},
   "outputs": [],
   "source": [
    "# Read the file paths from master_file.txt\n",
    "filename = \".././input/master_file.txt\"\n",
    "with open(filename, 'r') as file:\n",
    "    file_paths = file.readlines()\n",
    "    file_paths = [path.strip() for path in file_paths]\n",
    "\n",
    "filename_data = slics.parse_SLICS_filenames(file_paths)"
   ]
  },
  {
   "cell_type": "code",
   "execution_count": 8,
   "metadata": {},
   "outputs": [],
   "source": [
    "# Define the path to the \"master_file_cov.txt\"\n",
    "master_file_path = \".././input/master_file_cov.txt\"\n",
    "\n",
    "# Read the file paths from the \"master_file_cov.txt\"\n",
    "with open(master_file_path, \"r\") as file:\n",
    "    file_paths = file.readlines()\n",
    "    file_paths = [path.strip() for path in file_paths]\n",
    "\n",
    "# Now, you can call the modified parse_SLICS_filenames function to parse these file paths\n",
    "parsed_cov_data = parse_cov_SLICS_filenames(file_paths)\n"
   ]
  },
  {
   "cell_type": "code",
   "execution_count": 9,
   "metadata": {},
   "outputs": [
    {
     "data": {
      "text/plain": [
       "rec.array([(1, 100,  1), (1, 100,  2), (1, 100,  3), ..., (4,  99, 17),\n",
       "           (4,  99, 18), (4,  99, 19)],\n",
       "          dtype=[('bin', '<i8'), ('LOS', '<i8'), ('tile', '<i8')])"
      ]
     },
     "execution_count": 9,
     "metadata": {},
     "output_type": "execute_result"
    }
   ],
   "source": [
    "parsed_cov_data"
   ]
  },
  {
   "cell_type": "code",
   "execution_count": null,
   "metadata": {},
   "outputs": [],
   "source": []
  }
 ],
 "metadata": {
  "kernelspec": {
   "display_name": "Python 3",
   "language": "python",
   "name": "python3"
  },
  "language_info": {
   "codemirror_mode": {
    "name": "ipython",
    "version": 3
   },
   "file_extension": ".py",
   "mimetype": "text/x-python",
   "name": "python",
   "nbconvert_exporter": "python",
   "pygments_lexer": "ipython3",
   "version": "3.10.9"
  },
  "orig_nbformat": 4
 },
 "nbformat": 4,
 "nbformat_minor": 2
}
