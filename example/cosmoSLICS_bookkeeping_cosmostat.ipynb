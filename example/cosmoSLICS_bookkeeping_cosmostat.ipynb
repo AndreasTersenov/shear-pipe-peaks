{
 "cells": [
  {
   "cell_type": "markdown",
   "metadata": {},
   "source": [
    "### Imports"
   ]
  },
  {
   "cell_type": "code",
   "execution_count": 3,
   "metadata": {},
   "outputs": [],
   "source": [
    "import sys  \n",
    "import os\n",
    "import numpy as np\n",
    "from numpy import linalg as LA\n",
    "from scipy import ndimage as ndi\n",
    "from scipy.special import erf\n",
    "import matplotlib.pyplot as plt\n",
    "\n",
    "from lenspack.utils import bin2d\n",
    "from lenspack.geometry.projections.gnom import radec2xy\n",
    "from lenspack.image.inversion import ks93\n",
    "\n",
    "from lenspack.geometry.projections import gnom\n",
    "import lenspack.peaks as peaks\n",
    "from lenspack.image.transforms import starlet2d\n",
    "\n",
    "from pycs.astro.wl.mass_mapping import *\n",
    "from pycs.misc.im_isospec import *\n",
    "from pycs.sparsity.sparse2d.starlet import *\n",
    "from pycs.misc.cosmostat_init import *\n",
    "from pycs.misc.mr_prog import *\n",
    "from pycs.misc.utilHSS import *\n",
    "from pycs.misc.im1d_tend import *\n",
    "from pycs.misc.stats import *\n",
    "from pycs.sparsity.sparse2d.dct import dct2d, idct2d\n",
    "from pycs.sparsity.sparse2d.dct_inpainting import dct_inpainting\n",
    "from pycs.astro.wl.hos_peaks_l1 import *"
   ]
  },
  {
   "cell_type": "code",
   "execution_count": null,
   "metadata": {},
   "outputs": [],
   "source": [
    "from lenspack.starlet_l1norm import noise_coeff, get_l1norm_noisy\n",
    "\n",
    "import sp_peaks\n",
    "from sp_peaks import slics\n",
    "from sp_peaks import mapping\n",
    "from sp_peaks import summary_statistics\n",
    "from sp_peaks import plotting"
   ]
  },
  {
   "cell_type": "markdown",
   "metadata": {},
   "source": [
    "### Bookkeeping"
   ]
  },
  {
   "cell_type": "code",
   "execution_count": null,
   "metadata": {},
   "outputs": [],
   "source": [
    "# Define root directory where the simulation files are located\n",
    "root_directory = \"/n17data/tersenov/SLICS/Cosmo_DES\"\n",
    "\n",
    "# Directories to exclude\n",
    "exclude_dirs = [\"SLICS_HR\", \"fid_a\", \"fid_f\"]\n",
    "\n",
    "# Open the master text file in write mode\n",
    "master_file_path = \".././input/master_file.txt\"\n",
    "with open(master_file_path, \"w\") as master_file:\n",
    "    # Iterate over the files and subdirectories in the root directory\n",
    "    for root, dirs, files in os.walk(root_directory):\n",
    "        # Exclude the specified directories\n",
    "        dirs[:] = [d for d in dirs if d not in exclude_dirs]\n",
    "        \n",
    "        for file_name in files:\n",
    "            # Write the file path to the master file\n",
    "            file_path = os.path.join(root, file_name)\n",
    "            master_file.write(file_path + \"\\n\")"
   ]
  },
  {
   "cell_type": "code",
   "execution_count": null,
   "metadata": {},
   "outputs": [],
   "source": [
    "# Read the file paths from master_file.txt\n",
    "filename = \".././input/master_file.txt\"\n",
    "with open(filename, 'r') as file:\n",
    "    file_paths = file.readlines()\n",
    "    file_paths = [path.strip() for path in file_paths]\n",
    "\n",
    "filename_data = slics.parse_SLICS_filenames(file_paths)"
   ]
  },
  {
   "cell_type": "code",
   "execution_count": null,
   "metadata": {},
   "outputs": [],
   "source": [
    "# Path to the .dat file\n",
    "dat_file_path = \"/home/tersenov/shear-pipe-peaks/example/CosmoTable.dat\"\n",
    "\n",
    "# Read the cosmological parameters from the .dat file\n",
    "cosmo_params = slics.read_SLICS_cosmo_params(dat_file_path)"
   ]
  },
  {
   "cell_type": "code",
   "execution_count": null,
   "metadata": {},
   "outputs": [],
   "source": [
    "dat_file_path = \"/home/tersenov/shear-pipe-peaks/example/CosmoTable.dat\"\n",
    "mapped_params = slics.map_cosmo_params_to_data(filename_data, dat_file_path)"
   ]
  },
  {
   "cell_type": "markdown",
   "metadata": {},
   "source": [
    "### Read catalog and generate density map and noise map"
   ]
  },
  {
   "cell_type": "markdown",
   "metadata": {},
   "source": [
    "Constants and parameters"
   ]
  },
  {
   "cell_type": "code",
   "execution_count": null,
   "metadata": {},
   "outputs": [],
   "source": [
    "# Constants and Parameters\n",
    "CATALOG_FILE = \"/n17data/tersenov/SLICS/Cosmo_DES/16_a/LOS4/DES_MocksCat_16_a_4_Bin3_LOS4_R4.dat\"\n",
    "N_GAL = 7\n",
    "PIX_ARCMIN = 1.\n",
    "SHAPE_NOISE = 0.44\n",
    "NSCALES = 5\n",
    "\n",
    "# NBINS = 40 \n",
    "# KAPPA_SNR = np.linspace(-2, 6, 31)"
   ]
  },
  {
   "cell_type": "markdown",
   "metadata": {},
   "source": [
    "Load catalog"
   ]
  },
  {
   "cell_type": "code",
   "execution_count": null,
   "metadata": {},
   "outputs": [],
   "source": [
    "# Load the catalog data \n",
    "catalog_data = slics.read_catalogue_pd(CATALOG_FILE)\n",
    "\n",
    "ra = catalog_data['RA']\n",
    "dec = catalog_data['Dec']\n",
    "g1_sim = catalog_data['gamma1_sim']\n",
    "g2_sim = catalog_data['gamma2_sim']\n",
    "kappa_sim = catalog_data['kappa_sim']"
   ]
  },
  {
   "cell_type": "markdown",
   "metadata": {},
   "source": [
    "Project (ra,dec) -> (x,y) "
   ]
  },
  {
   "cell_type": "code",
   "execution_count": null,
   "metadata": {},
   "outputs": [],
   "source": [
    "# Define the size of the pixel grid in degrees and the pixel size in arcminutes\n",
    "size_x_deg = 10\n",
    "size_y_deg = 10\n",
    "pixel_size_emap_amin = PIX_ARCMIN \n",
    "\n",
    "# Calculate the number of pixels in the x and y directions\n",
    "Nx = int(size_x_deg / pixel_size_emap_amin * 60)\n",
    "Ny = int(size_y_deg / pixel_size_emap_amin * 60)\n",
    "\n",
    "# Project (ra,dec) -> (x,y)\n",
    "x, y = radec2xy(np.mean(ra), np.mean(dec), ra, dec)"
   ]
  },
  {
   "cell_type": "markdown",
   "metadata": {},
   "source": [
    "Galaxies per pixel map"
   ]
  },
  {
   "cell_type": "code",
   "execution_count": null,
   "metadata": {},
   "outputs": [],
   "source": [
    "# create the galaxy number density map\n",
    "galmap = bin2d(x, y, npix=(Nx,Ny))"
   ]
  },
  {
   "cell_type": "markdown",
   "metadata": {},
   "source": [
    "Mask"
   ]
  },
  {
   "cell_type": "code",
   "execution_count": null,
   "metadata": {},
   "outputs": [],
   "source": [
    "# get the mask from the galaxy density map (the mask is 1 where there are galaxies and 0 where there are no galaxies)\n",
    "mask = galmap > 0\n",
    "mask = mask.astype(int)"
   ]
  },
  {
   "cell_type": "markdown",
   "metadata": {},
   "source": [
    "Noise map & covariance matrix"
   ]
  },
  {
   "cell_type": "code",
   "execution_count": null,
   "metadata": {},
   "outputs": [],
   "source": [
    "sigma_noise = np.zeros_like(galmap)\n",
    "sigma_noise[mask != 0] = SHAPE_NOISE / np.sqrt(2 * galmap[mask != 0])\n",
    "sigma_noise[mask == 0] = np.max(sigma_noise[mask != 0]) # set the noise to the maximum value in the map where there are galaxies"
   ]
  },
  {
   "cell_type": "code",
   "execution_count": null,
   "metadata": {},
   "outputs": [],
   "source": [
    "noise_map_CFIS_z05 = sigma_noise * np.random.randn(sigma_noise.shape[0], sigma_noise.shape[1]) # generate noise map"
   ]
  },
  {
   "cell_type": "markdown",
   "metadata": {},
   "source": [
    "## Mass mapping"
   ]
  },
  {
   "cell_type": "markdown",
   "metadata": {},
   "source": [
    "Bin shear"
   ]
  },
  {
   "cell_type": "code",
   "execution_count": null,
   "metadata": {},
   "outputs": [],
   "source": [
    "# bin the shear field into a 2D map\n",
    "e1map, e2map = bin2d(x, y, npix=(Nx, Ny), v=(g1_sim, g2_sim)) "
   ]
  },
  {
   "cell_type": "markdown",
   "metadata": {},
   "source": [
    "Initialize `shear_data` and `massmap2d` classes"
   ]
  },
  {
   "cell_type": "code",
   "execution_count": null,
   "metadata": {},
   "outputs": [],
   "source": [
    "# Shear data class initialization\n",
    "d = shear_data()\n",
    "d.g1 = e1map\n",
    "d.g2 = -e2map\n",
    "(nx,ny) = e1map.shape\n",
    "d.mask = mask"
   ]
  },
  {
   "cell_type": "code",
   "execution_count": null,
   "metadata": {},
   "outputs": [],
   "source": [
    "# Shear noise covariance matrix\n",
    "Ncov = np.zeros((nx,ny))\n",
    "Ncov[mask > 0] = 2. * sigma_noise[mask > 0]**2\n",
    "Ncov[mask == 0] = 1e9 # set the noise to the maximum value in the map where there are galaxies\n",
    "\n",
    "d.Ncov = Ncov\n",
    "d.nx = nx\n",
    "d.ny = ny  "
   ]
  },
  {
   "cell_type": "code",
   "execution_count": null,
   "metadata": {},
   "outputs": [],
   "source": [
    "# Mass mapping class initialization\n",
    "M = massmap2d(name='mass')\n",
    "M.init_massmap(d.nx,d.ny)\n",
    "M.DEF_niter = 50\n",
    "Inpaint = True\n",
    "M.niter_debias = 30\n",
    "M.Verbose = False "
   ]
  },
  {
   "cell_type": "markdown",
   "metadata": {},
   "source": [
    "Mass maps"
   ]
  },
  {
   "cell_type": "code",
   "execution_count": null,
   "metadata": {},
   "outputs": [],
   "source": [
    "# KS\n",
    "ks =  M.gamma_to_cf_kappa(e1map,-e2map) \n",
    "ks = ks.real"
   ]
  },
  {
   "cell_type": "code",
   "execution_count": null,
   "metadata": {},
   "outputs": [],
   "source": [
    "# KS + Inpainting\n",
    "ksi =  M.iks(d.g1, d.g2, mask) \n",
    "ksi = ksi.real"
   ]
  },
  {
   "cell_type": "markdown",
   "metadata": {},
   "source": [
    "## Statistics"
   ]
  },
  {
   "cell_type": "markdown",
   "metadata": {},
   "source": [
    "Add noise to mass maps"
   ]
  },
  {
   "cell_type": "code",
   "execution_count": null,
   "metadata": {},
   "outputs": [],
   "source": [
    "ks_noisy = ks + noise_map_CFIS_z05\n",
    "ksi_noisy = ksi + noise_map_CFIS_z05"
   ]
  },
  {
   "cell_type": "markdown",
   "metadata": {},
   "source": [
    "Initialize `starlet2d` and `HOS_starlet_l1_norm_peaks` classes"
   ]
  },
  {
   "cell_type": "code",
   "execution_count": null,
   "metadata": {},
   "outputs": [],
   "source": [
    "WT = starlet2d(gen2=False,l2norm=False, verb=False)\n",
    "WT.init_starlet(nx, ny, nscale=ns)\n",
    "H = HOS_starlet_l1norm_peaks(WT)"
   ]
  },
  {
   "cell_type": "code",
   "execution_count": null,
   "metadata": {},
   "outputs": [],
   "source": [
    "MinSNR = -2\n",
    "MaxSNR = 6\n",
    "Nb=31\n",
    "Nb_l1 = 40\n",
    "H.set_bins(Min=MinSNR, Max=MaxSNR, nbins=Nb)\n",
    "SigmaMap = sigma_noise\n",
    "H.set_data(ks_noisy, SigmaMap, Mask=mask)\n",
    "H.get_wtpeaks(Mask=mask)\n",
    "pc = H.Peaks_Count\n",
    "H.get_wtl1(Nb_l1*2, Mask=mask)"
   ]
  },
  {
   "cell_type": "markdown",
   "metadata": {},
   "source": [
    "## Plotting"
   ]
  },
  {
   "cell_type": "markdown",
   "metadata": {},
   "source": [
    "Mass map"
   ]
  },
  {
   "cell_type": "code",
   "execution_count": null,
   "metadata": {},
   "outputs": [],
   "source": [
    "tvilut(ks, title='Noiseless KS Map', lut='inferno', vmin=-0.1, vmax=0.1, fs=5)"
   ]
  },
  {
   "cell_type": "markdown",
   "metadata": {},
   "source": [
    "Noisy mass map"
   ]
  },
  {
   "cell_type": "code",
   "execution_count": null,
   "metadata": {},
   "outputs": [],
   "source": [
    "tvilut(ks_noisy, title='Noisy KS Map', lut='inferno', vmin=-0.1, vmax=0.1, fs=5)"
   ]
  },
  {
   "cell_type": "markdown",
   "metadata": {},
   "source": [
    "Multiscale peaks"
   ]
  },
  {
   "cell_type": "code",
   "execution_count": null,
   "metadata": {},
   "outputs": [],
   "source": [
    "H.plot_peaks_histo(log_scale=True)"
   ]
  },
  {
   "cell_type": "markdown",
   "metadata": {},
   "source": [
    "$\\ell_1$ norm"
   ]
  },
  {
   "cell_type": "code",
   "execution_count": null,
   "metadata": {},
   "outputs": [],
   "source": [
    "H.plot_l1norm()"
   ]
  },
  {
   "cell_type": "code",
   "execution_count": null,
   "metadata": {},
   "outputs": [],
   "source": []
  },
  {
   "cell_type": "code",
   "execution_count": null,
   "metadata": {},
   "outputs": [],
   "source": []
  },
  {
   "cell_type": "code",
   "execution_count": null,
   "metadata": {},
   "outputs": [],
   "source": []
  },
  {
   "cell_type": "markdown",
   "metadata": {},
   "source": [
    "## Mono-scale peaks"
   ]
  },
  {
   "cell_type": "markdown",
   "metadata": {},
   "source": [
    "Create gaussian kernel"
   ]
  },
  {
   "cell_type": "markdown",
   "metadata": {},
   "source": [
    "im = np.zeros((nx, ny))\n",
    "im = im.astype(\"float64\")\n",
    "im[int(nx / 2), int(ny / 2)] = np.float64(1.0)\n",
    "gaussian_kernel = ndi.gaussian_filter(im, sigma=2)"
   ]
  },
  {
   "cell_type": "markdown",
   "metadata": {},
   "source": [
    "Calculate the noise level for the smoothed pixels"
   ]
  },
  {
   "cell_type": "code",
   "execution_count": null,
   "metadata": {},
   "outputs": [],
   "source": [
    "VarianceMap = sigma_noise**2\n",
    "square_gaussian_kernel = gaussian_kernel**2\n",
    "smoothed_noise_sigma = np.sqrt(conv(VarianceMap, square_gaussian_kernel))"
   ]
  },
  {
   "cell_type": "markdown",
   "metadata": {},
   "source": []
  }
 ],
 "metadata": {
  "kernelspec": {
   "display_name": "pysap",
   "language": "python",
   "name": "python3"
  },
  "language_info": {
   "codemirror_mode": {
    "name": "ipython",
    "version": 3
   },
   "file_extension": ".py",
   "mimetype": "text/x-python",
   "name": "python",
   "nbconvert_exporter": "python",
   "pygments_lexer": "ipython3",
   "version": "3.10.11"
  }
 },
 "nbformat": 4,
 "nbformat_minor": 2
}
