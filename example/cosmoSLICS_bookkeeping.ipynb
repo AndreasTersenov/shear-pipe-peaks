{
 "cells": [
  {
   "cell_type": "code",
   "execution_count": 24,
   "metadata": {},
   "outputs": [],
   "source": [
    "import os\n",
    "\n",
    "# Define root directory where the simulation files are located\n",
    "root_directory = \"/n17data/tersenov/SLICS/Cosmo_DES\"\n",
    "\n",
    "# Directories to exclude\n",
    "exclude_dirs = [\"SLICS_HR\", \"fid_a\", \"fid_f\"]\n",
    "\n",
    "# Open the master text file in write mode\n",
    "master_file_path = \"master_file.txt\"\n",
    "with open(master_file_path, \"w\") as master_file:\n",
    "    # Iterate over the files and subdirectories in the root directory\n",
    "    for root, dirs, files in os.walk(root_directory):\n",
    "        # Exclude the specified directories\n",
    "        dirs[:] = [d for d in dirs if d not in exclude_dirs]\n",
    "        \n",
    "        for file_name in files:\n",
    "            # Write the file path to the master file\n",
    "            file_path = os.path.join(root, file_name)\n",
    "            master_file.write(file_path + \"\\n\")"
   ]
  },
  {
   "cell_type": "code",
   "execution_count": 27,
   "metadata": {},
   "outputs": [],
   "source": [
    "import numpy as np\n",
    "\n",
    "def process_files(file_paths):\n",
    "    # Make empty recarray to store the data\n",
    "    data = np.recarray(len(file_paths), dtype=[('id', int), ('seed', 'U1'), ('bin', int), ('LOS', int), ('tile', int)])\n",
    "\n",
    "    # Iterate over the file paths and process each file\n",
    "    for i, file_path in enumerate(file_paths):\n",
    "        # Extract the file name from the file path\n",
    "        file_name = file_path.split(\"/\")[-1]\n",
    "        \n",
    "        # Split file name into parts\n",
    "        file_parts = file_name.split(\"_\")\n",
    "       \n",
    "        id = int(file_parts[2])\n",
    "        seed = file_parts[3]\n",
    "        unknown_number = int(file_parts[4])\n",
    "        bin = int(file_parts[5][3:])  # Extract the number after \"Bin\"\n",
    "        LOS = int(file_parts[6][3:])  # Extract the number after \"LOS\"\n",
    "        tile = int(file_parts[7][1:-4])  # Extract the number after \"R\"\n",
    "\n",
    "        # Assign the extracted data to the corresponding fields in the recarray\n",
    "        data[i]['id'] = id\n",
    "        data[i]['seed'] = seed\n",
    "        data[i]['bin'] = bin\n",
    "        data[i]['LOS'] = LOS\n",
    "        data[i]['tile'] = tile\n",
    "        # print(data[i])\n",
    "\n",
    "    return data\n"
   ]
  },
  {
   "cell_type": "code",
   "execution_count": 28,
   "metadata": {},
   "outputs": [],
   "source": [
    "# Read the file paths from master_file.txt\n",
    "filename = \"master_file.txt\"\n",
    "with open(filename, 'r') as file:\n",
    "    file_paths = file.readlines()\n",
    "    file_paths = [path.strip() for path in file_paths]\n",
    "\n",
    "data = process_files(file_paths)"
   ]
  }
 ],
 "metadata": {
  "kernelspec": {
   "display_name": "base",
   "language": "python",
   "name": "python3"
  },
  "language_info": {
   "codemirror_mode": {
    "name": "ipython",
    "version": 3
   },
   "file_extension": ".py",
   "mimetype": "text/x-python",
   "name": "python",
   "nbconvert_exporter": "python",
   "pygments_lexer": "ipython3",
   "version": "3.9.15"
  },
  "orig_nbformat": 4
 },
 "nbformat": 4,
 "nbformat_minor": 2
}
