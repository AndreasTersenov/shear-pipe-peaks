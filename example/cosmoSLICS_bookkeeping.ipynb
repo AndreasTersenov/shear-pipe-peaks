{
 "cells": [
  {
   "cell_type": "code",
   "execution_count": 4,
   "metadata": {},
   "outputs": [],
   "source": [
    "import os\n",
    "\n",
    "# Define root directory where the simulation files are located\n",
    "root_directory = \"/n17data/tersenov/SLICS/Cosmo_DES\"\n",
    "\n",
    "# Directories to exclude\n",
    "exclude_dirs = [\"SLICS_HR\", \"fid_a\", \"fid_f\"]\n",
    "\n",
    "# Open the master text file in write mode\n",
    "master_file_path = \"master_file.txt\"\n",
    "with open(master_file_path, \"w\") as master_file:\n",
    "    # Iterate over the files and subdirectories in the root directory\n",
    "    for root, dirs, files in os.walk(root_directory):\n",
    "        # Exclude the specified directories\n",
    "        dirs[:] = [d for d in dirs if d not in exclude_dirs]\n",
    "        \n",
    "        for file_name in files:\n",
    "            # Write the file path to the master file\n",
    "            file_path = os.path.join(root, file_name)\n",
    "            master_file.write(file_path + \"\\n\")"
   ]
  },
  {
   "cell_type": "code",
   "execution_count": 5,
   "metadata": {},
   "outputs": [],
   "source": [
    "import numpy as np\n",
    "\n",
    "def process_files(file_paths):\n",
    "    \"\"\"Reads the information in the filename.\n",
    "\n",
    "    Parameters\n",
    "    ----------\n",
    "    file_paths : list of str (.txt file)\n",
    "        List containing the paths to the files to be processed\n",
    "\n",
    "    Returns\n",
    "    -------\n",
    "    data : recarray\n",
    "        Numpy recarray containing the information extracted from the file names\n",
    "\n",
    "    \"\"\"\n",
    "\n",
    "    # Make empty recarray to store the data\n",
    "    data = np.recarray(len(file_paths), dtype=[('id', int), ('seed', 'U1'), ('bin', int), ('LOS', int), ('tile', int)])\n",
    "\n",
    "    # Iterate over the file paths and process each file\n",
    "    for i, file_path in enumerate(file_paths):\n",
    "        # Extract the file name from the file path\n",
    "        file_name = file_path.split(\"/\")[-1]\n",
    "        \n",
    "        # Split file name into parts\n",
    "        file_parts = file_name.split(\"_\")\n",
    "        \n",
    "        id = int(file_parts[2])\n",
    "        seed = file_parts[3]\n",
    "        unknown_number = int(file_parts[4])\n",
    "        bin = int(file_parts[5][3:])  # Extract the number after \"Bin\"\n",
    "        LOS = int(file_parts[6][3:])  # Extract the number after \"LOS\"\n",
    "        tile = int(file_parts[7][1:-4])  # Extract the number after \"R\"\n",
    "\n",
    "        # Assign the extracted data to the corresponding fields in the recarray\n",
    "        data[i]['id'] = id\n",
    "        data[i]['seed'] = seed\n",
    "        data[i]['bin'] = bin\n",
    "        data[i]['LOS'] = LOS\n",
    "        data[i]['tile'] = tile\n",
    "        # print(data[i])\n",
    "\n",
    "    return data \n"
   ]
  },
  {
   "cell_type": "code",
   "execution_count": 6,
   "metadata": {},
   "outputs": [],
   "source": [
    "# Read the file paths from master_file.txt\n",
    "filename = \"master_file.txt\"\n",
    "with open(filename, 'r') as file:\n",
    "    file_paths = file.readlines()\n",
    "    file_paths = [path.strip() for path in file_paths]\n",
    "\n",
    "data = process_files(file_paths)"
   ]
  },
  {
   "cell_type": "code",
   "execution_count": 7,
   "metadata": {},
   "outputs": [],
   "source": [
    "def read_cosmo_params(file_path):\n",
    "    \"\"\"Reads the cosmological parameters from the .dat file.\n",
    "\n",
    "    Parameters\n",
    "    ----------\n",
    "    file_path : str\n",
    "        Path to the .dat file containing the cosmological parameters\n",
    "\n",
    "    Returns\n",
    "    -------\n",
    "    cosmo_params : dict\n",
    "        Dictionary mapping each ID to its corresponding cosmological parameters\n",
    "\n",
    "    \"\"\"\n",
    "\n",
    "    cosmo_params = {}\n",
    "\n",
    "    with open(file_path, 'r') as file:\n",
    "        lines = file.readlines()\n",
    "\n",
    "        # Iterate over the lines starting from the second line\n",
    "        for line in lines[1:]:\n",
    "            line = line.strip()\n",
    "            if line:\n",
    "                parts = line.split()\n",
    "                id = int(parts[0])\n",
    "                params = {\n",
    "                    'Om': float(parts[1]),\n",
    "                    'h': float(parts[2]),\n",
    "                    'w_0': float(parts[3]),\n",
    "                    'sigma_8': float(parts[4]),\n",
    "                    'Oc': float(parts[5])\n",
    "                }\n",
    "                cosmo_params[id] = params\n",
    "\n",
    "    return cosmo_params"
   ]
  },
  {
   "cell_type": "code",
   "execution_count": 8,
   "metadata": {},
   "outputs": [],
   "source": [
    "# Path to the .dat file\n",
    "dat_file_path = \"/home/tersenov/shear-pipe-peaks/example/CosmoTable.dat\"\n",
    "\n",
    "# Read the cosmological parameters from the .dat file\n",
    "cosmo_params = read_cosmo_params(dat_file_path)\n",
    "\n",
    "# Map the IDs in the recarray to the corresponding cosmological parameters\n",
    "mapped_params = []\n",
    "for row in data:\n",
    "    id = row['id']\n",
    "    params = cosmo_params.get(id)\n",
    "    if params:\n",
    "        mapped_params.append(params)\n",
    "    else:\n",
    "        print(f\"No parameters found for ID {id}\")\n",
    "\n",
    "# Now, 'mapped_params' will contain the corresponding cosmological parameters for each ID in the recarray"
   ]
  },
  {
   "cell_type": "markdown",
   "metadata": {},
   "source": [
    "# Generate the mass map from the catalog"
   ]
  },
  {
   "cell_type": "code",
   "execution_count": 9,
   "metadata": {},
   "outputs": [
    {
     "name": "stdout",
     "output_type": "stream",
     "text": [
      "[[ 8.9438686e+00  7.3266211e+00 -2.6491606e-01 ...  1.3698399e-03\n",
      "  -2.0684400e-03  8.9141685e-01]\n",
      " [ 9.2625837e+00  7.2931900e+00 -5.3840622e-02 ...  1.1668235e-05\n",
      "  -7.9777034e-04  7.6248813e-01]\n",
      " [ 9.1085062e+00  7.3634996e+00 -2.3904347e-01 ...  1.4143117e-03\n",
      "  -2.6327133e-04  8.1961751e-01]\n",
      " ...\n",
      " [ 5.3041000e+00  6.0832686e+00  2.6433794e-02 ...  5.1106932e-04\n",
      "  -2.6381079e-03  7.4370402e-01]\n",
      " [ 5.0223250e+00  6.0880365e+00  5.4065637e-02 ...  1.3714051e-02\n",
      "   2.6118999e-02  7.0694596e-01]\n",
      " [ 5.3476853e+00  6.0835223e+00  3.8928293e-02 ...  3.2676180e-04\n",
      "  -3.0681316e-03 -1.3368914e-01]]\n"
     ]
    }
   ],
   "source": [
    "import numpy as np\n",
    "\n",
    "# Define the path to the catalog file\n",
    "catalog_file = \"/n17data/tersenov/SLICS/Cosmo_DES/00_a/LOS1/DES_MocksCat_00_a_4_Bin1_LOS1_R1.dat\"\n",
    "\n",
    "# Load the catalog data as a numpy array\n",
    "catalog_data = np.loadtxt(catalog_file)\n",
    "\n",
    "# Print the loaded data\n",
    "print(catalog_data)\n"
   ]
  },
  {
   "cell_type": "code",
   "execution_count": 10,
   "metadata": {},
   "outputs": [
    {
     "data": {
      "text/plain": [
       "(272143, 10)"
      ]
     },
     "execution_count": 10,
     "metadata": {},
     "output_type": "execute_result"
    }
   ],
   "source": [
    "catalog_data.shape"
   ]
  },
  {
   "cell_type": "code",
   "execution_count": null,
   "metadata": {},
   "outputs": [],
   "source": []
  }
 ],
 "metadata": {
  "kernelspec": {
   "display_name": "base",
   "language": "python",
   "name": "python3"
  },
  "language_info": {
   "codemirror_mode": {
    "name": "ipython",
    "version": 3
   },
   "file_extension": ".py",
   "mimetype": "text/x-python",
   "name": "python",
   "nbconvert_exporter": "python",
   "pygments_lexer": "ipython3",
   "version": "3.9.15"
  },
  "orig_nbformat": 4
 },
 "nbformat": 4,
 "nbformat_minor": 2
}
