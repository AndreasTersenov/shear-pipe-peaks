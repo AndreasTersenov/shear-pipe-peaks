{
 "cells": [
  {
   "cell_type": "code",
   "execution_count": null,
   "metadata": {},
   "outputs": [],
   "source": [
    "import os\n",
    "import sp_peaks\n",
    "from sp_peaks import slics\n",
    "from sp_peaks import mapping\n",
    "from sp_peaks import summary_statistics\n",
    "from sp_peaks import plotting\n",
    "import numpy as np\n",
    "import matplotlib.pyplot as plt\n",
    "from scipy import ndimage as ndi\n",
    "from lenspack.geometry.projections.gnom import radec2xy\n",
    "from lenspack.utils import bin2d\n",
    "from lenspack.image.inversion import ks93\n",
    "import lenspack.peaks as peaks\n",
    "from lenspack.starlet_l1norm import noise_coeff, get_l1norm_noisy\n",
    "from lenspack.image.transforms import starlet2d\n",
    "from astropy.stats import mad_std"
   ]
  },
  {
   "cell_type": "code",
   "execution_count": null,
   "metadata": {},
   "outputs": [],
   "source": [
    "# Define root directory where the simulation files are located\n",
    "root_directory = \"/n17data/tersenov/SLICS/Cosmo_DES\"\n",
    "\n",
    "# Directories to exclude\n",
    "exclude_dirs = [\"SLICS_HR\", \"fid_a\", \"fid_f\"]\n",
    "\n",
    "# Open the master text file in write mode\n",
    "master_file_path = \".././input/master_file.txt\"\n",
    "with open(master_file_path, \"w\") as master_file:\n",
    "    # Iterate over the files and subdirectories in the root directory\n",
    "    for root, dirs, files in os.walk(root_directory):\n",
    "        # Exclude the specified directories\n",
    "        dirs[:] = [d for d in dirs if d not in exclude_dirs]\n",
    "        \n",
    "        for file_name in files:\n",
    "            # Write the file path to the master file\n",
    "            file_path = os.path.join(root, file_name)\n",
    "            master_file.write(file_path + \"\\n\")"
   ]
  },
  {
   "cell_type": "code",
   "execution_count": null,
   "metadata": {},
   "outputs": [],
   "source": [
    "# Read the file paths from master_file.txt\n",
    "filename = \".././input/master_file.txt\"\n",
    "with open(filename, 'r') as file:\n",
    "    file_paths = file.readlines()\n",
    "    file_paths = [path.strip() for path in file_paths]\n",
    "\n",
    "filename_data = slics.parse_SLICS_filenames(file_paths)"
   ]
  },
  {
   "cell_type": "code",
   "execution_count": null,
   "metadata": {},
   "outputs": [],
   "source": [
    "# Path to the .dat file\n",
    "dat_file_path = \"/home/tersenov/shear-pipe-peaks/example/CosmoTable.dat\"\n",
    "\n",
    "# Read the cosmological parameters from the .dat file\n",
    "cosmo_params = slics.read_SLICS_cosmo_params(dat_file_path)"
   ]
  },
  {
   "cell_type": "code",
   "execution_count": null,
   "metadata": {},
   "outputs": [],
   "source": [
    "dat_file_path = \"/home/tersenov/shear-pipe-peaks/example/CosmoTable.dat\"\n",
    "mapped_params = slics.map_cosmo_params_to_data(filename_data, dat_file_path)"
   ]
  },
  {
   "cell_type": "markdown",
   "metadata": {},
   "source": [
    "# Generate the mass map from the catalog, make the S/N maps and count the peaks"
   ]
  },
  {
   "cell_type": "markdown",
   "metadata": {},
   "source": [
    "Catalog columns:\n",
    "\n",
    "0. RA\n",
    "1. DEC\n",
    "2. e1_data\n",
    "3. e2_data\n",
    "4. w \n",
    "5. redshift_true_sim\n",
    "6. gamma1_sim\n",
    "7. gamma2_sim\n",
    "8. kappa_sim\n",
    "9. s_metacal_data"
   ]
  },
  {
   "cell_type": "code",
   "execution_count": null,
   "metadata": {},
   "outputs": [],
   "source": [
    "# Constants and Parameters\n",
    "CATALOG_FILE = \"/n17data/tersenov/SLICS/Cosmo_DES/16_a/LOS4/DES_MocksCat_16_a_4_Bin3_LOS4_R4.dat\"\n",
    "N_GAL = 7\n",
    "PIX_ARCMIN = 0.4\n",
    "SHAPE_NOISE = 0.44\n",
    "NSCALES = 5\n",
    "NBINS = 40 \n",
    "KAPPA_SNR = np.linspace(-2, 6, 31)"
   ]
  },
  {
   "cell_type": "code",
   "execution_count": null,
   "metadata": {},
   "outputs": [],
   "source": [
    "def plot_map(map_data, title='', cmap='inferno', vmin=None, vmax=None):\n",
    "    \"\"\"\n",
    "    Plot a 2D map using a colormap.\n",
    "\n",
    "    Parameters:\n",
    "        map_data (numpy.ndarray): The 2D map data.\n",
    "        title (str): Title of the plot.\n",
    "        cmap (str): Colormap name.\n",
    "        vmin (float): Minimum value for colormap scaling.\n",
    "        vmax (float): Maximum value for colormap scaling.\n",
    "    \"\"\"\n",
    "    plt.figure()\n",
    "    img = plt.imshow(map_data, cmap=cmap, vmin=vmin, vmax=vmax, origin='lower')\n",
    "    plt.title(title)\n",
    "    plt.colorbar(img)\n",
    "    plt.show()    \n",
    "\n",
    "def plot_peak_count_histograms(kappa_th_center, peak_counts, title, xlabel, ylabel, log_scale=False):\n",
    "    \"\"\"\n",
    "    Plot histograms of peak counts.\n",
    "\n",
    "    Parameters:\n",
    "        kappa_th_center (numpy.ndarray): Array of kappa threshold centers.\n",
    "        peak_counts (numpy.ndarray or list of numpy.ndarray): Peak counts for each scale.\n",
    "        title (str): Title of the plot.\n",
    "        xlabel (str): Label for the x-axis.\n",
    "        ylabel (str): Label for the y-axis.\n",
    "        log_scale (bool, optional): Whether to use a logarithmic scale for the y-axis. Default is False.\n",
    "    \"\"\"\n",
    "    plt.figure()\n",
    "    \n",
    "    if isinstance(peak_counts, list):  # Multiscale case\n",
    "        for scale, peak_count in enumerate(peak_counts):\n",
    "            plt.plot(kappa_th_center, peak_count, label=f'Scale {scale + 1}')\n",
    "    else:  # Single-scale case\n",
    "        plt.plot(kappa_th_center, peak_counts)\n",
    "    \n",
    "    plt.legend()\n",
    "    if log_scale:\n",
    "        plt.yscale('log')\n",
    "    plt.xlabel(xlabel)\n",
    "    plt.ylabel(ylabel)\n",
    "    plt.grid(True)\n",
    "    plt.title(title)\n",
    "    plt.show()\n",
    "\n",
    "def plot_l1norm_histograms(bins, l1norm_histogram, title, xlabel, ylabel, xlim=None, log_scale=False):\n",
    "    \"\"\"\n",
    "    Plot L1-norm histograms for each scale.\n",
    "\n",
    "    Parameters:\n",
    "        bins (list of numpy.ndarray): List of bin edges for each scale.\n",
    "        l1norm_histogram (list of numpy.ndarray): List of L1-norm histograms for each scale.\n",
    "        title (str): Title of the plot.\n",
    "        xlabel (str): Label for the x-axis.\n",
    "        ylabel (str): Label for the y-axis.\n",
    "        xlim (tuple or list): Limits for the x-axis (e.g., xlim=(0, 6)).\n",
    "        log_scale (bool): Whether to use a logarithmic scale for the y-axis.\n",
    "    \"\"\"\n",
    "    plt.figure()\n",
    "\n",
    "    for scale, l1norm_hist in enumerate(l1norm_histogram):\n",
    "        plt.plot(bins[scale], l1norm_hist, label=f'Scale {scale}')\n",
    "\n",
    "    plt.legend()\n",
    "    plt.xticks()\n",
    "    plt.yticks()\n",
    "    plt.xlabel(xlabel)\n",
    "    plt.ylabel(ylabel)\n",
    "    plt.grid(True)\n",
    "    plt.title(title)\n",
    "    \n",
    "    if xlim:\n",
    "        plt.xlim(xlim)\n",
    "        \n",
    "    if log_scale:\n",
    "        plt.yscale('log')\n",
    "        \n",
    "    plt.show()\n"
   ]
  },
  {
   "cell_type": "markdown",
   "metadata": {},
   "source": [
    "Loading catalog"
   ]
  },
  {
   "cell_type": "code",
   "execution_count": null,
   "metadata": {},
   "outputs": [],
   "source": [
    "# Load the catalog data \n",
    "catalog_data = slics.read_catalogue(CATALOG_FILE)"
   ]
  },
  {
   "cell_type": "code",
   "execution_count": null,
   "metadata": {},
   "outputs": [],
   "source": [
    "ra = catalog_data['RA']\n",
    "dec = catalog_data['Dec']\n",
    "g1_sim = catalog_data['gamma1_sim']\n",
    "g2_sim = catalog_data['gamma2_sim']\n",
    "kappa_sim = catalog_data['kappa_sim']"
   ]
  },
  {
   "cell_type": "markdown",
   "metadata": {},
   "source": [
    "Create kappa map and make an SNR map from it"
   ]
  },
  {
   "cell_type": "code",
   "execution_count": null,
   "metadata": {},
   "outputs": [],
   "source": [
    "# Bin the shear field\n",
    "e1map, e2map = mapping.bin_shear_field(ra, dec, g1_sim, g2_sim)\n",
    "\n",
    "# Create the kappa map\n",
    "kappaE, _ = ks93(e1map, -e2map)\n",
    "\n",
    "# Add noise to the kappa map\n",
    "kappaE_noisy, noise_map_CFIS_z05 = mapping.add_noise_to_kappa_map(kappaE, SHAPE_NOISE, N_GAL, PIX_ARCMIN)\n",
    "\n",
    "# Smooth the noisy kappa map\n",
    "kappaE_noisy_smoothed = mapping.smooth_kappa_map(kappaE_noisy, PIX_ARCMIN) \n",
    "\n",
    "# Compute SNR map\n",
    "snr = mapping.convert_to_snr_map(kappaE_noisy_smoothed, kappaE_noisy_smoothed)"
   ]
  },
  {
   "cell_type": "markdown",
   "metadata": {},
   "source": [
    "Peak counts on the SNR map"
   ]
  },
  {
   "cell_type": "code",
   "execution_count": null,
   "metadata": {},
   "outputs": [],
   "source": [
    "# Compute peak counts \n",
    "kappa_th_center_snr, peak_counts_single = summary_statistics.compute_single_scale_peak_counts(snr, KAPPA_SNR)"
   ]
  },
  {
   "cell_type": "markdown",
   "metadata": {},
   "source": [
    "Multiscale SNR maps"
   ]
  },
  {
   "cell_type": "code",
   "execution_count": null,
   "metadata": {},
   "outputs": [],
   "source": [
    "# Compute multiscale SNR maps\n",
    "multiscale_snr_maps = mapping.compute_multiscale_snr_maps(kappaE, noise_map_CFIS_z05, NSCALES)"
   ]
  },
  {
   "cell_type": "code",
   "execution_count": null,
   "metadata": {},
   "outputs": [],
   "source": [
    "# Compute peak counts for each scale\n",
    "kappa_th_center_snr, peak_counts_multi = summary_statistics.compute_multiscale_peak_counts(multiscale_snr_maps, KAPPA_SNR)"
   ]
  },
  {
   "cell_type": "markdown",
   "metadata": {},
   "source": [
    "$\\ell_1$-norm"
   ]
  },
  {
   "cell_type": "code",
   "execution_count": null,
   "metadata": {},
   "outputs": [],
   "source": [
    "# Call the function to compute the L1-norm histogram\n",
    "bins_l1, l1norm_histogram = get_l1norm_noisy(kappaE, noise_map_CFIS_z05, NSCALES, NBINS*2)"
   ]
  },
  {
   "cell_type": "markdown",
   "metadata": {},
   "source": [
    "# Plotting"
   ]
  },
  {
   "cell_type": "markdown",
   "metadata": {},
   "source": [
    "Plot:\n",
    "1. Noiseless mass map\n",
    "2. Noisy mass map\n",
    "3. Noisy smoothed mass map\n",
    "4. SNR map"
   ]
  },
  {
   "cell_type": "code",
   "execution_count": null,
   "metadata": {},
   "outputs": [],
   "source": [
    "# Define the map data and titles\n",
    "map_data = [kappaE, kappaE_noisy, kappaE_noisy_smoothed, snr]\n",
    "titles = ['Noiseless Mass Map', 'Noisy Mass Map', 'Noisy Smoothed Mass Map', 'SNR Map']\n",
    "\n",
    "# Define the vmin and vmax values for each map (adjust these values as needed)\n",
    "vmin_values = [-0.01, -0.1, -0.1, None]\n",
    "vmax_values = [0.01, 0.1, 0.1, None]\n",
    "\n",
    "# Plot each map using the plot_map function\n",
    "for data, title, vmin, vmax in zip(map_data, titles, vmin_values, vmax_values):\n",
    "    plotting.plot_map(data, title=title, vmin=vmin, vmax=vmax)"
   ]
  },
  {
   "cell_type": "markdown",
   "metadata": {},
   "source": [
    "Plot the SNR maps of the 5 different scales and the coarse map"
   ]
  },
  {
   "cell_type": "code",
   "execution_count": null,
   "metadata": {},
   "outputs": [],
   "source": [
    "# Define vmin and vmax values for each SNR map\n",
    "vmin_values = [-0.5, -3, -4, -4, -4, -4]  # Replace with your desired vmin values\n",
    "vmax_values = [0.5, 3, 4, 4, 4, 4]  # Replace with your desired vmax values\n",
    "\n",
    "scales_arcmin = [2**(i+1) * PIX_ARCMIN for i in range(len(multiscale_snr_maps))]\n",
    "\n",
    "for i, (snr_map, scale_arcmin) in enumerate(zip(multiscale_snr_maps, scales_arcmin)):\n",
    "    title = f\"SNR Map (Scale {scale_arcmin:.1f} arcmin)\"\n",
    "    plotting.plot_map(snr_map, title=title, cmap='inferno', vmin=vmin_values[i], vmax=vmax_values[i])"
   ]
  },
  {
   "cell_type": "code",
   "execution_count": null,
   "metadata": {},
   "outputs": [],
   "source": [
    "# Plot single-scale peak count histogram\n",
    "plotting.plot_peak_count_histograms(kappa_th_center_snr, peak_counts_single, \n",
    "                           'Peak Counts Histogram for Gaussian SNR Map', 'SNR', 'Peak Counts')"
   ]
  },
  {
   "cell_type": "code",
   "execution_count": null,
   "metadata": {},
   "outputs": [],
   "source": [
    "# Plot multiscale peak count histograms\n",
    "plotting.plot_peak_count_histograms(kappa_th_center_snr, peak_counts_multi, \n",
    "                           'Peak Counts for Different Scales', 'SNR', 'Peak Counts', log_scale=False)"
   ]
  },
  {
   "cell_type": "code",
   "execution_count": null,
   "metadata": {},
   "outputs": [],
   "source": [
    "# Plot multiscale peak count histograms\n",
    "plotting.plot_peak_count_histograms(kappa_th_center_snr, peak_counts_multi, \n",
    "                           'Peak Counts for Different Scales', 'SNR', 'Peak Counts', log_scale=True)"
   ]
  },
  {
   "cell_type": "code",
   "execution_count": null,
   "metadata": {},
   "outputs": [],
   "source": [
    "# Plot l1-norm histograms for different scales\n",
    "plotting.plot_l1norm_histograms(bins_l1, l1norm_histogram, 'L1-norm Histograms for Different Scales', 'SNR', 'L1-norm', log_scale=False)"
   ]
  },
  {
   "cell_type": "code",
   "execution_count": null,
   "metadata": {},
   "outputs": [],
   "source": [
    "bins_l1.shape"
   ]
  },
  {
   "cell_type": "code",
   "execution_count": null,
   "metadata": {},
   "outputs": [],
   "source": [
    "l1norm_histogram.shape"
   ]
  }
 ],
 "metadata": {
  "kernelspec": {
   "display_name": "Python 3 (ipykernel)",
   "language": "python",
   "name": "python3"
  },
  "language_info": {
   "codemirror_mode": {
    "name": "ipython",
    "version": 3
   },
   "file_extension": ".py",
   "mimetype": "text/x-python",
   "name": "python",
   "nbconvert_exporter": "python",
   "pygments_lexer": "ipython3",
   "version": "3.10.9"
  }
 },
 "nbformat": 4,
 "nbformat_minor": 2
}
