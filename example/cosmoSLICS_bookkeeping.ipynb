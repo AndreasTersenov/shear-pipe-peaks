{
 "cells": [
  {
   "cell_type": "code",
   "execution_count": 1,
   "metadata": {},
   "outputs": [],
   "source": [
    "import os\n",
    "\n",
    "# Define root directory where the simulation files are located\n",
    "root_directory = \"/n17data/tersenov/SLICS/Cosmo_DES\"\n",
    "\n",
    "# Open the master text file in write mode\n",
    "master_file_path = \"master_file.txt\"\n",
    "with open(master_file_path, \"w\") as master_file:\n",
    "    # Iterate over the files and subdirectories in the root directory\n",
    "    for root, dirs, files in os.walk(root_directory):\n",
    "        for file_name in files:\n",
    "            # Write the file path to the master file\n",
    "            file_path = os.path.join(root, file_name)\n",
    "            master_file.write(file_path + \"\\n\")\n"
   ]
  },
  {
   "cell_type": "code",
   "execution_count": 18,
   "metadata": {},
   "outputs": [
    {
     "name": "stdout",
     "output_type": "stream",
     "text": [
      "['DES', 'MocksCat', '13', 'a', '4', 'Bin2', 'LOS1', 'R11.dat']\n",
      "{'id': 13, 'seed': 'a', 'bin': 2, 'LOS': 1, 'tile': 11}\n"
     ]
    }
   ],
   "source": [
    "def process_file(file_path):\n",
    "    # Extract the necessary information from the file path\n",
    "    file_name = os.path.basename(file_path)\n",
    "    file_parts = file_name.split(\"_\")\n",
    "    print(file_parts)\n",
    "\n",
    "    \n",
    "    id = int(file_parts[2])\n",
    "    seed = file_parts[3]\n",
    "    unknown_number = int(file_parts[4])\n",
    "    bin = int(file_parts[5][3:])  # Extract the number after \"Bin\"\n",
    "    LOS = int(file_parts[6][3:])  # Extract the number after \"LOS\"\n",
    "    tile = int(file_parts[7][1:-4])  # Extract the number after \"R\"\n",
    "\n",
    "    # Return the extracted data as a dictionary or array\n",
    "    return {\n",
    "        \"id\": id,\n",
    "        \"seed\": seed,\n",
    "        \"bin\": bin,\n",
    "        \"LOS\": LOS,\n",
    "        \"tile\": tile\n",
    "    }\n",
    "    # return file_parts\n",
    "\n",
    "# Example usage\n",
    "filename = \"DES_MocksCat_13_a_4_Bin2_LOS1_R11.dat\"\n",
    "data = process_file(filename)\n",
    "\n",
    "print(data)\n"
   ]
  },
  {
   "cell_type": "code",
   "execution_count": 20,
   "metadata": {},
   "outputs": [
    {
     "name": "stdout",
     "output_type": "stream",
     "text": [
      "[(13, 'a', 2, 1, 11)]\n"
     ]
    }
   ],
   "source": [
    "import numpy as np\n",
    "import os\n",
    "\n",
    "def process_file(file_path):\n",
    "    # Extract the necessary information from the file path\n",
    "    file_name = os.path.basename(file_path)\n",
    "    file_parts = file_name.split(\"_\")\n",
    "\n",
    "    id = int(file_parts[2])\n",
    "    seed = file_parts[3]\n",
    "    unknown_number = int(file_parts[4])\n",
    "    bin = int(file_parts[5][3:])  # Extract the number after \"Bin\"\n",
    "    LOS = int(file_parts[6][3:])  # Extract the number after \"LOS\"\n",
    "    tile = int(file_parts[7][1:-4])  # Extract the number after \"R\"\n",
    "\n",
    "    # Create a structured array with the extracted data\n",
    "    data = np.recarray(1, dtype=[('id', int), ('seed', 'U1'), ('bin', int), ('LOS', int), ('tile', int)])\n",
    "    data['id'] = id\n",
    "    data['seed'] = seed\n",
    "    data['bin'] = bin\n",
    "    data['LOS'] = LOS\n",
    "    data['tile'] = tile\n",
    "\n",
    "    return data\n",
    "\n",
    "# Example usage\n",
    "filename = \"DES_MocksCat_13_a_4_Bin2_LOS1_R11.dat\"\n",
    "data = process_file(filename)\n",
    "\n",
    "print(data)\n",
    "\n"
   ]
  },
  {
   "cell_type": "code",
   "execution_count": null,
   "metadata": {},
   "outputs": [],
   "source": []
  }
 ],
 "metadata": {
  "kernelspec": {
   "display_name": "base",
   "language": "python",
   "name": "python3"
  },
  "language_info": {
   "codemirror_mode": {
    "name": "ipython",
    "version": 3
   },
   "file_extension": ".py",
   "mimetype": "text/x-python",
   "name": "python",
   "nbconvert_exporter": "python",
   "pygments_lexer": "ipython3",
   "version": "3.9.15"
  },
  "orig_nbformat": 4
 },
 "nbformat": 4,
 "nbformat_minor": 2
}
