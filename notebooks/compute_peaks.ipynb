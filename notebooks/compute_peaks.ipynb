{
 "cells": [
  {
   "cell_type": "code",
   "execution_count": null,
   "metadata": {},
   "outputs": [],
   "source": [
    "import numpy as np\n",
    "from astropy.io import fits\n",
    "import matplotlib.pyplot as plt\n",
    "from scipy import ndimage as ndi\n",
    "from mpl_toolkits.axes_grid1 import make_axes_locatable\n",
    "from scipy import ndimage as ndi\n",
    "from lenspack import peaks\n",
    "from lenspack.image.transforms import starlet2d, mr_transform"
   ]
  },
  {
   "cell_type": "code",
   "execution_count": null,
   "metadata": {},
   "outputs": [],
   "source": [
    "## test"
   ]
  },
  {
   "cell_type": "code",
   "execution_count": null,
   "metadata": {},
   "outputs": [],
   "source": [
    "#load the kappa E-mode map produced by Axel\n",
    "kappaE=fits.getdata('P3_kappaE_0.4.fits')\n",
    "\n",
    "#plot the kappa E-mode map \n",
    "plt.figure(figsize=(20,20))\n",
    "ax = plt.gca()\n",
    "im = ax.imshow(kappaE)\n",
    "plt.colorbar(im,fraction=0.018, pad=0.04)"
   ]
  },
  {
   "cell_type": "code",
   "execution_count": null,
   "metadata": {},
   "outputs": [],
   "source": [
    "#extract a square patch without holes as first test \n",
    "kappa_first_test=kappaE[500:1012,3700:4212]\n",
    "\n",
    "#galaxy number density in gal/arcmin^2\n",
    "n_gal=7 \n",
    "\n",
    "#pixel size in arcmin\n",
    "pix_arcmin=0.4\n",
    "\n",
    "#compute shape noise for CFIS\n",
    "shape_noise=0.44\n",
    "sigma_noise_CFIS=shape_noise/(np.sqrt(n_gal)*pix_arcmin)\n",
    "noise_CFIS_z05=sigma_noise_CFIS*np.random.randn(512, 512)"
   ]
  },
  {
   "cell_type": "code",
   "execution_count": null,
   "metadata": {},
   "outputs": [],
   "source": [
    "noise_map = np.load('/Users/vajani/Desktop/CFIS/noise_z05_CFIS.npy', mmap_mode='r')[15]"
   ]
  },
  {
   "cell_type": "code",
   "execution_count": null,
   "metadata": {},
   "outputs": [],
   "source": [
    "#plot the squared patch\n",
    "plt.figure(figsize=(5,5))\n",
    "plt.imshow(kappa_first_test)\n",
    "ax = plt.gca()\n",
    "im = ax.imshow(kappa_first_test)\n",
    "divider = make_axes_locatable(ax)\n",
    "cax = divider.append_axes(\"right\", size=\"5%\", pad=0.05)\n",
    "plt.colorbar(im, cax=cax)"
   ]
  },
  {
   "cell_type": "code",
   "execution_count": null,
   "metadata": {},
   "outputs": [],
   "source": [
    "#load the galaxy density distribution\n",
    "n_z=np.loadtxt('/Users/vajani/Desktop/CFIS/nz.txt')"
   ]
  },
  {
   "cell_type": "code",
   "execution_count": null,
   "metadata": {},
   "outputs": [],
   "source": [
    "#plot the galaxy density distribution\n",
    "plt.plot(n_z[:,0],n_z[:,1])\n",
    "plt.xticks(fontsize=18)\n",
    "plt.yticks(fontsize=18)\n",
    "plt.xlabel('z', fontsize=19)\n",
    "plt.ylabel('n(z)', fontsize=19)"
   ]
  },
  {
   "cell_type": "code",
   "execution_count": null,
   "metadata": {},
   "outputs": [],
   "source": [
    "#smooth the map with Gaussian kernel\n",
    "precision_Peaks=3/pix_arcmin\n",
    "kappa_noisy_smoothed=ndi.gaussian_filter(kappa_first_test, precision_Peaks)\n",
    "\n",
    "#plot smoothed map with Gaussian kernel\n",
    "plt.figure(figsize=(5,5))\n",
    "ax = plt.gca()\n",
    "im = ax.imshow(kappa_noisy_smoothed)\n",
    "divider = make_axes_locatable(ax)\n",
    "cax = divider.append_axes(\"right\", size=\"5%\", pad=0.05)\n",
    "plt.colorbar(im, cax=cax)"
   ]
  },
  {
   "cell_type": "code",
   "execution_count": null,
   "metadata": {},
   "outputs": [],
   "source": [
    "#compute S/N\n",
    "snr=kappa_noisy_smoothed/np.std(ndi.gaussian_filter(noise_CFIS_z05, precision_Peaks))\n",
    "\n",
    "#plot S/N map\n",
    "plt.figure(figsize=(5,5))\n",
    "ax = plt.gca()\n",
    "im = ax.imshow(snr)\n",
    "divider = make_axes_locatable(ax)\n",
    "cax = divider.append_axes(\"right\", size=\"5%\", pad=0.05)\n",
    "plt.colorbar(im, cax=cax)"
   ]
  },
  {
   "cell_type": "code",
   "execution_count": null,
   "metadata": {},
   "outputs": [],
   "source": [
    "#compute single-Gaussian peak counts\n",
    "n_bins=41\n",
    "thresholds_kappa=np.linspace(np.min(kappa_noisy_smoothed),np.max(kappa_noisy_smoothed),n_bins+1)\n",
    "#thresholds_kappa=np.linspace(-0.06,0.06,42)\n",
    "peak_counts, bins = peaks.peaks_histogram(kappa_noisy_smoothed,thresholds_kappa)"
   ]
  },
  {
   "cell_type": "code",
   "execution_count": null,
   "metadata": {},
   "outputs": [],
   "source": [
    "bins_centers=0.5*(bins[:-1]+bins[1:])\n",
    "print(len(bins_centers))"
   ]
  },
  {
   "cell_type": "code",
   "execution_count": null,
   "metadata": {},
   "outputs": [],
   "source": [
    "#plot single-Gaussian peak counts\n",
    "plt.figure(figsize=(10,7))\n",
    "plt.plot(peak_counts)\n",
    "plt.xticks(fontsize=18)\n",
    "plt.yticks(fontsize=18)\n",
    "plt.xlabel('S/N', fontsize=18)\n",
    "plt.ylabel('#peak counts', fontsize=18)"
   ]
  },
  {
   "cell_type": "code",
   "execution_count": null,
   "metadata": {},
   "outputs": [],
   "source": [
    "np.save('fiducial_peaks_Ksmoothed_single_gaussian.npy', peak_counts)"
   ]
  },
  {
   "cell_type": "code",
   "execution_count": null,
   "metadata": {},
   "outputs": [],
   "source": [
    "#compute starlet peak counts\n",
    "st = starlet2d(snr, nscales=6)"
   ]
  },
  {
   "cell_type": "code",
   "execution_count": null,
   "metadata": {},
   "outputs": [],
   "source": [
    "#plot starlet decomposition of the map\n",
    "fig, (ax1, ax2, ax3, ax4, ax5, ax6) = plt.subplots(1, 6, figsize=(18, 4))\n",
    "ax1.imshow(st[0], cmap='magma')\n",
    "ax2.imshow(st[1], cmap='magma')\n",
    "ax3.imshow(st[2], cmap='magma')\n",
    "ax4.imshow(st[3], cmap='magma')\n",
    "ax5.imshow(st[4], cmap='magma')\n",
    "ax6.imshow(st[5], cmap='magma')"
   ]
  }
 ],
 "metadata": {
  "kernelspec": {
   "display_name": "Python 3",
   "language": "python",
   "name": "python3"
  },
  "language_info": {
   "codemirror_mode": {
    "name": "ipython",
    "version": 3
   },
   "file_extension": ".py",
   "mimetype": "text/x-python",
   "name": "python",
   "nbconvert_exporter": "python",
   "pygments_lexer": "ipython3",
   "version": "3.8.5"
  }
 },
 "nbformat": 4,
 "nbformat_minor": 2
}
